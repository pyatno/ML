{
  "nbformat": 4,
  "nbformat_minor": 0,
  "metadata": {
    "colab": {
      "provenance": []
    },
    "kernelspec": {
      "name": "python3",
      "display_name": "Python 3"
    },
    "language_info": {
      "name": "python"
    }
  },
  "cells": [
    {
      "cell_type": "markdown",
      "source": [
        "**Цель работы**\n",
        "Анализ данных Национального обследования роста семьи (NSFG) для изучения характеристик беременности и родов.\n",
        "**Основные задачи:**\n",
        "\n",
        "Очистка и предварительная обработка данных\n",
        "\n",
        "Анализ распределений ключевых переменных\n",
        "\n",
        "Сравнение показателей для разных групп респондентов\n",
        "\n",
        "Визуализация данных"
      ],
      "metadata": {
        "id": "RsVohJyomKXV"
      }
    },
    {
      "cell_type": "code",
      "execution_count": 1,
      "metadata": {
        "id": "aTct3djEk7v0"
      },
      "outputs": [],
      "source": [
        "# Импорт необходимых библиотек\n",
        "import pandas as pd\n",
        "import numpy as np\n",
        "import matplotlib.pyplot as plt\n",
        "\n",
        "# Загрузка данных из HDF5-файла\n",
        "nsfg = pd.read_hdf('nsfg.hdf5', 'nsfg')"
      ]
    },
    {
      "cell_type": "markdown",
      "source": [
        "**1. Исследование структуры данных**"
      ],
      "metadata": {
        "id": "iQCksWm_mPFE"
      }
    },
    {
      "cell_type": "code",
      "source": [
        "# Размерность DataFrame (строки, столбцы)\n",
        "print(nsfg.shape)\n",
        "\n",
        "# Названия столбцов\n",
        "print(nsfg.columns)"
      ],
      "metadata": {
        "colab": {
          "base_uri": "https://localhost:8080/"
        },
        "id": "MvqOrgHtmQdl",
        "outputId": "94463fed-7aac-4e15-ad8c-dc843ca3c322"
      },
      "execution_count": 2,
      "outputs": [
        {
          "output_type": "stream",
          "name": "stdout",
          "text": [
            "(9358, 10)\n",
            "Index(['caseid', 'outcome', 'birthwgt_lb1', 'birthwgt_oz1', 'prglngth',\n",
            "       'nbrnaliv', 'agecon', 'agepreg', 'hpagelb', 'wgt2013_2015'],\n",
            "      dtype='object')\n"
          ]
        }
      ]
    },
    {
      "cell_type": "markdown",
      "source": [
        "**2. Работа с отдельными переменными**"
      ],
      "metadata": {
        "id": "bsMCYspbmRhF"
      }
    },
    {
      "cell_type": "code",
      "source": [
        "# Выбор данных о весе при рождении (в унциях)\n",
        "ounces = nsfg['birthwgt_oz1']\n",
        "print(ounces.head(5))  # Первые 5 значений\n",
        "\n",
        "# Анализ переменной 'nbrnaliv' (число рожденных детей)\n",
        "print(nsfg['nbrnaliv'].value_counts())\n",
        "\n",
        "# Замена значения 8 на NaN (пропущенное значение)\n",
        "nsfg['nbrnaliv'].replace([8], np.nan, inplace=True)\n",
        "print(nsfg['nbrnaliv'].value_counts())  # Проверка замены"
      ],
      "metadata": {
        "colab": {
          "base_uri": "https://localhost:8080/"
        },
        "id": "PwSbS7XImSgb",
        "outputId": "daaa4d0b-b784-4ab4-997c-204297697070"
      },
      "execution_count": 3,
      "outputs": [
        {
          "output_type": "stream",
          "name": "stdout",
          "text": [
            "0     4.0\n",
            "1    12.0\n",
            "2     4.0\n",
            "3     NaN\n",
            "4    13.0\n",
            "Name: birthwgt_oz1, dtype: float64\n",
            "nbrnaliv\n",
            "1.0    6379\n",
            "2.0     100\n",
            "3.0       5\n",
            "8.0       1\n",
            "Name: count, dtype: int64\n",
            "nbrnaliv\n",
            "1.0    6379\n",
            "2.0     100\n",
            "3.0       5\n",
            "Name: count, dtype: int64\n"
          ]
        },
        {
          "output_type": "stream",
          "name": "stderr",
          "text": [
            "<ipython-input-3-b8f7f1c669a9>:9: FutureWarning: A value is trying to be set on a copy of a DataFrame or Series through chained assignment using an inplace method.\n",
            "The behavior will change in pandas 3.0. This inplace method will never work because the intermediate object on which we are setting values always behaves as a copy.\n",
            "\n",
            "For example, when doing 'df[col].method(value, inplace=True)', try using 'df.method({col: value}, inplace=True)' or df[col] = df[col].method(value) instead, to perform the operation inplace on the original object.\n",
            "\n",
            "\n",
            "  nsfg['nbrnaliv'].replace([8], np.nan, inplace=True)\n"
          ]
        }
      ]
    },
    {
      "cell_type": "markdown",
      "source": [
        "**3. Анализ возраста**"
      ],
      "metadata": {
        "id": "R2Rk_Uu6mU_P"
      }
    },
    {
      "cell_type": "code",
      "source": [
        "# Описательные статистики для возраста при зачатии и беременности\n",
        "print(nsfg['agecon'].describe())\n",
        "print(nsfg['agepreg'].describe())\n",
        "\n",
        "# Нормализация возраста\n",
        "agecon = nsfg['agecon'] / 100\n",
        "agepreg = nsfg['agepreg'] / 100\n",
        "\n",
        "# Расчет длительности беременности\n",
        "preg_length = agepreg - agecon\n",
        "print(preg_length.describe())  # Статистики длительности"
      ],
      "metadata": {
        "colab": {
          "base_uri": "https://localhost:8080/"
        },
        "id": "437unDzlmXPQ",
        "outputId": "c184f884-b09e-4474-86df-383c3f0b9c12"
      },
      "execution_count": 4,
      "outputs": [
        {
          "output_type": "stream",
          "name": "stdout",
          "text": [
            "count    9358.000000\n",
            "mean     2446.330199\n",
            "std       579.392363\n",
            "min       750.000000\n",
            "25%      1983.000000\n",
            "50%      2366.000000\n",
            "75%      2850.000000\n",
            "max      4350.000000\n",
            "Name: agecon, dtype: float64\n",
            "count    9109.000000\n",
            "mean     2494.934570\n",
            "std       578.099231\n",
            "min       825.000000\n",
            "25%      2041.000000\n",
            "50%      2416.000000\n",
            "75%      2900.000000\n",
            "max      4350.000000\n",
            "Name: agepreg, dtype: float64\n",
            "count    9109.000000\n",
            "mean        0.552069\n",
            "std         0.271479\n",
            "min         0.000000\n",
            "25%         0.250000\n",
            "50%         0.670000\n",
            "75%         0.750000\n",
            "max         0.920000\n",
            "dtype: float64\n"
          ]
        }
      ]
    },
    {
      "cell_type": "markdown",
      "source": [
        "**4. Визуализация данных**"
      ],
      "metadata": {
        "id": "pTIFe-7vmYx_"
      }
    },
    {
      "cell_type": "code",
      "source": [
        "plt.figure(figsize=(12, 5))  # Общая фигура\n",
        "\n",
        "# Гистограмма обычная\n",
        "plt.subplot(1, 2, 1)\n",
        "plt.hist(agecon, bins=20)\n",
        "plt.xlabel(\"Age at conception\")\n",
        "plt.ylabel('Number of pregnancies')\n",
        "plt.title('Обычная гистограмма')\n",
        "\n",
        "# Гистограмма ступенчатая\n",
        "plt.subplot(1, 2, 2)\n",
        "plt.hist(agecon, bins=20, histtype='step')\n",
        "plt.xlabel(\"Age at conception\")\n",
        "plt.title('Ступенчатая гистограмма')\n",
        "\n",
        "plt.tight_layout()\n",
        "plt.show()"
      ],
      "metadata": {
        "colab": {
          "base_uri": "https://localhost:8080/",
          "height": 371
        },
        "id": "_rqGfLhhmaHR",
        "outputId": "c95fffe7-48c8-4a9b-f2a5-59f3ed0c5d28"
      },
      "execution_count": 12,
      "outputs": [
        {
          "output_type": "display_data",
          "data": {
            "text/plain": [
              "<Figure size 1200x500 with 2 Axes>"
            ],
            "image/png": "[encoded data removed]"
          },
          "metadata": {}
        }
      ]
    },
    {
      "cell_type": "markdown",
      "source": [
        "**5. Взвешенная повторная выборка**"
      ],
      "metadata": {
        "id": "mrSO5K0zmx6L"
      }
    },
    {
      "cell_type": "code",
      "source": [
        "def resample_rows_weighted(df, column='wgt2013_2015'):\n",
        "    \"\"\"Повторная выборка строк с весами\"\"\"\n",
        "    weights = df[column].copy()\n",
        "    weights /= sum(weights)  # Нормализация весов\n",
        "    # Случайный выбор индексов с учетом весов\n",
        "    indices = np.random.choice(df.index, len(df), replace=True, p=weights)\n",
        "    return df.loc[indices]  # Возврат новой выборки\n",
        "\n",
        "# Применение взвешенной выборки\n",
        "nsfg = resample_rows_weighted(nsfg, 'wgt2013_2015')"
      ],
      "metadata": {
        "id": "r39J54Ntm2sl"
      },
      "execution_count": 7,
      "outputs": []
    },
    {
      "cell_type": "markdown",
      "source": [
        "**6. Анализ веса при рождении**"
      ],
      "metadata": {
        "id": "Iptok9Y2m4kY"
      }
    },
    {
      "cell_type": "code",
      "source": [
        "# Очистка данных о весе (замена 98, 99 на NaN)\n",
        "pounds = nsfg['birthwgt_lb1'].replace([98, 99], np.nan)\n",
        "ounces = nsfg['birthwgt_oz1'].replace([98, 99], np.nan)\n",
        "\n",
        "# Расчет общего веса в фунтах\n",
        "birth_weight = pounds + ounces/16\n",
        "\n",
        "# Выделение доношенных беременностей (≥37 недель)\n",
        "full_term = nsfg['prglngth'] >= 37\n",
        "full_term_weight = birth_weight[full_term]\n",
        "print(full_term_weight.mean())  # Средний вес доношенных"
      ],
      "metadata": {
        "colab": {
          "base_uri": "https://localhost:8080/"
        },
        "id": "f9Qzqk1fm67H",
        "outputId": "4bd1c2b3-1de1-4189-f0ba-81ec7037f728"
      },
      "execution_count": 8,
      "outputs": [
        {
          "output_type": "stream",
          "name": "stdout",
          "text": [
            "7.4291532402434655\n"
          ]
        }
      ]
    },
    {
      "cell_type": "markdown",
      "source": [
        "**7. Сравнение групп**"
      ],
      "metadata": {
        "id": "Htui7ZG5m6RF"
      }
    },
    {
      "cell_type": "code",
      "source": [
        "# Фильтр для одноплодных родов\n",
        "single = nsfg['nbrnaliv'] == 1\n",
        "\n",
        "# Средний вес для одноплодных доношенных\n",
        "single_full_term_weight = birth_weight[single & full_term]\n",
        "print('Single full-term mean:', single_full_term_weight.mean())\n",
        "\n",
        "# Средний вес для многоплодных доношенных\n",
        "mult_full_term_weight = birth_weight[~single & full_term]\n",
        "print('Multiple full-term mean:', mult_full_term_weight.mean())"
      ],
      "metadata": {
        "colab": {
          "base_uri": "https://localhost:8080/"
        },
        "id": "LkOOq6Him_Gf",
        "outputId": "3feeb26f-0bfd-41ec-c131-3ebb20e9dd2a"
      },
      "execution_count": 9,
      "outputs": [
        {
          "output_type": "stream",
          "name": "stdout",
          "text": [
            "Single full-term mean: 7.436904440848616\n",
            "Multiple full-term mean: 5.6328125\n"
          ]
        }
      ]
    }
  ]
}