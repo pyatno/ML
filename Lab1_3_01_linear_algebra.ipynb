{
  "nbformat": 4,
  "nbformat_minor": 0,
  "metadata": {
    "colab": {
      "provenance": []
    },
    "kernelspec": {
      "name": "python3",
      "display_name": "Python 3"
    },
    "language_info": {
      "name": "python"
    }
  },
  "cells": [
    {
      "cell_type": "markdown",
      "source": [
        "**Цели работы:**\n",
        "\n",
        "1. Докажите, что транспонирование транспонированной матрицы - это сама матрица: $(\\mathbf{A}^\\top)^\\top = \\mathbf{A}$."
      ],
      "metadata": {
        "id": "vp6MVQ0nqOd5"
      }
    },
    {
      "cell_type": "code",
      "source": [
        "import numpy as np\n",
        "\n",
        "A = np.array([[1, 2, 3],\n",
        "              [4, 5, 6]])\n",
        "\n",
        "A_transposed = A.T  # Первое транспонирование\n",
        "A_transposed_transposed = A_transposed.T  # Второе транспонирование\n",
        "\n",
        "print(\"Исходная матрица A:\\n\", A)\n",
        "print(\"Транспонированная дважды:\\n\", A_transposed_transposed)\n",
        "print(\"Эквивалентность:\", np.array_equal(A, A_transposed_transposed))"
      ],
      "metadata": {
        "colab": {
          "base_uri": "https://localhost:8080/"
        },
        "id": "mthnJSaarG3R",
        "outputId": "7bb7a26d-16d6-46a7-e9d2-3c95f48b481f"
      },
      "execution_count": 1,
      "outputs": [
        {
          "output_type": "stream",
          "name": "stdout",
          "text": [
            "Исходная матрица A:\n",
            " [[1 2 3]\n",
            " [4 5 6]]\n",
            "Транспонированная дважды:\n",
            " [[1 2 3]\n",
            " [4 5 6]]\n",
            "Эквивалентность: True\n"
          ]
        }
      ]
    },
    {
      "cell_type": "markdown",
      "source": [
        "2. Для двух матриц $\\mathbf{A}$ и $\\mathbf{B}$, покажите, что сумма и транспозиция коммутируют: $\\mathbf{A}^\\top + \\mathbf{B}^\\top = (\\mathbf{A} + \\mathbf{B})^\\top$.\n"
      ],
      "metadata": {
        "id": "SfBWzBhrqYKS"
      }
    },
    {
      "cell_type": "code",
      "source": [
        "A = np.array([[1, 2], [3, 4]])\n",
        "B = np.array([[5, 6], [7, 8]])\n",
        "\n",
        "left_side = A.T + B.T\n",
        "right_side = (A + B).T\n",
        "\n",
        "print(\"A^T + B^T:\\n\", left_side)\n",
        "print(\"(A + B)^T:\\n\", right_side)\n",
        "print(\"Эквивалентность:\", np.array_equal(left_side, right_side))"
      ],
      "metadata": {
        "colab": {
          "base_uri": "https://localhost:8080/"
        },
        "id": "L5yTIn_QrHMi",
        "outputId": "cfbef935-d7db-4553-e855-32c5a0d37d70"
      },
      "execution_count": 2,
      "outputs": [
        {
          "output_type": "stream",
          "name": "stdout",
          "text": [
            "A^T + B^T:\n",
            " [[ 6 10]\n",
            " [ 8 12]]\n",
            "(A + B)^T:\n",
            " [[ 6 10]\n",
            " [ 8 12]]\n",
            "Эквивалентность: True\n"
          ]
        }
      ]
    },
    {
      "cell_type": "markdown",
      "source": [
        "3. Для любой квадратичной матрицы $\\mathbf{A}$, сумма матриц $\\mathbf{A} + \\mathbf{A}^\\top$ всегда ли симметрична? Можете ли вы доказать это, используя только предыдущие два упражнения?"
      ],
      "metadata": {
        "id": "smgreKH1qbHA"
      }
    },
    {
      "cell_type": "code",
      "source": [
        "A = np.array([[1, 2], [3, 4]])\n",
        "S = A + A.T\n",
        "\n",
        "print(\"A + A^T:\\n\", S)\n",
        "print(\"Является ли симметричной:\", np.array_equal(S, S.T))"
      ],
      "metadata": {
        "colab": {
          "base_uri": "https://localhost:8080/"
        },
        "id": "brWn74zJrHhD",
        "outputId": "300b8339-0bd6-4a9d-c25d-4dad8490811c"
      },
      "execution_count": 3,
      "outputs": [
        {
          "output_type": "stream",
          "name": "stdout",
          "text": [
            "A + A^T:\n",
            " [[2 5]\n",
            " [5 8]]\n",
            "Является ли симметричной: True\n"
          ]
        }
      ]
    },
    {
      "cell_type": "markdown",
      "source": [
        "4. Мы определяли тензор `X` размерности (2, 3, 4). Что возвращает функция `len(X)`? Попробуйте записать ответ используя воображение, потом проверьте свой ответ в среде программирования.\n"
      ],
      "metadata": {
        "id": "IJuy8LgMqTht"
      }
    },
    {
      "cell_type": "code",
      "source": [
        "X = np.random.rand(2, 3, 4)\n",
        "print(\"Форма X:\", X.shape)\n",
        "print(\"len(X):\", len(X))  # Возвращает 2"
      ],
      "metadata": {
        "colab": {
          "base_uri": "https://localhost:8080/"
        },
        "id": "3HzVpe2WrHya",
        "outputId": "f00ad731-b64d-4e12-d6ba-312cb60b046f"
      },
      "execution_count": 4,
      "outputs": [
        {
          "output_type": "stream",
          "name": "stdout",
          "text": [
            "Форма X: (2, 3, 4)\n",
            "len(X): 2\n"
          ]
        }
      ]
    },
    {
      "cell_type": "markdown",
      "source": [
        "5. Для тензора X произвольной размерности, всегда ли функция len(X) возвращает длину тензора по оси X? Что такое ось?\n"
      ],
      "metadata": {
        "id": "8vkenn9EqriY"
      }
    },
    {
      "cell_type": "code",
      "source": [],
      "metadata": {
        "id": "tWgRgIf8rIEx"
      },
      "execution_count": null,
      "outputs": []
    },
    {
      "cell_type": "markdown",
      "source": [
        "6. Запустите следующий фрагмент кода A / A.sum(axis=1) и проверьте полученный результат."
      ],
      "metadata": {
        "id": "nn7BpqM9quel"
      }
    },
    {
      "cell_type": "code",
      "source": [
        "A = np.array([[1, 2], [3, 4]])\n",
        "result = A / A.sum(axis=1, keepdims=True)  # Нормировка по строкам\n",
        "print(result)"
      ],
      "metadata": {
        "colab": {
          "base_uri": "https://localhost:8080/"
        },
        "id": "k4lj9uYvrIWr",
        "outputId": "eef22b4a-5cbf-411f-8935-5598d96b6b55"
      },
      "execution_count": 5,
      "outputs": [
        {
          "output_type": "stream",
          "name": "stdout",
          "text": [
            "[[0.33333333 0.66666667]\n",
            " [0.42857143 0.57142857]]\n"
          ]
        }
      ]
    },
    {
      "cell_type": "markdown",
      "source": [
        "7. Рассмотрим тензор размерности (2, 3, 4). Какие размерности можно получить при суммирования элементов тензора по осям 0, 1 и 2?\n"
      ],
      "metadata": {
        "id": "1rCb9oAMqzpB"
      }
    },
    {
      "cell_type": "code",
      "source": [
        "X = np.random.rand(2, 3, 4)\n",
        "print(\"sum(axis=0):\", X.sum(axis=0).shape)\n",
        "print(\"sum(axis=1):\", X.sum(axis=1).shape)\n",
        "print(\"sum(axis=2):\", X.sum(axis=2).shape)"
      ],
      "metadata": {
        "colab": {
          "base_uri": "https://localhost:8080/"
        },
        "id": "SfK6_18JrIpw",
        "outputId": "782632f3-51a3-4a9a-c070-3632abbbff49"
      },
      "execution_count": 6,
      "outputs": [
        {
          "output_type": "stream",
          "name": "stdout",
          "text": [
            "sum(axis=0): (3, 4)\n",
            "sum(axis=1): (2, 4)\n",
            "sum(axis=2): (2, 3)\n"
          ]
        }
      ]
    },
    {
      "cell_type": "markdown",
      "source": [
        "8. Передайте тензор с 3 или более осями в функцию linalg.norm и наблюдайте за его выводом."
      ],
      "metadata": {
        "id": "ORLd-FIvq9IO"
      }
    },
    {
      "cell_type": "code",
      "source": [
        "X = np.random.rand(2, 3, 4)\n",
        "norm = np.linalg.norm(X)  # Фробениусова норма (корень из суммы квадратов)\n",
        "print(norm)"
      ],
      "metadata": {
        "colab": {
          "base_uri": "https://localhost:8080/"
        },
        "id": "tjRjNDavrJDa",
        "outputId": "db57c56b-0d98-4af1-d67e-d3488ccfa6ea"
      },
      "execution_count": 7,
      "outputs": [
        {
          "output_type": "stream",
          "name": "stdout",
          "text": [
            "2.810285427769023\n"
          ]
        }
      ]
    },
    {
      "cell_type": "markdown",
      "source": [
        "9. Определите 3 матрицы  A∈R210×216 ,  B∈R216×25  и  C∈R25×214 , содержащие случайные переменные, распределенные по нормальному закону распределения. Вычислите произведение матриц:  ABC .\n"
      ],
      "metadata": {
        "id": "xgLCuv03q-7y"
      }
    },
    {
      "cell_type": "code",
      "source": [
        "A = np.random.randn(210, 216)\n",
        "B = np.random.randn(216, 25)\n",
        "C = np.random.randn(25, 214)\n",
        "\n",
        "ABC = A @ B @ C\n",
        "print(\"Форма ABC:\", ABC.shape)  # (210, 214)"
      ],
      "metadata": {
        "colab": {
          "base_uri": "https://localhost:8080/"
        },
        "id": "ESVkkrPZrJVg",
        "outputId": "28fad01a-3508-4103-e278-e53e4e96605b"
      },
      "execution_count": 8,
      "outputs": [
        {
          "output_type": "stream",
          "name": "stdout",
          "text": [
            "Форма ABC: (210, 214)\n"
          ]
        }
      ]
    },
    {
      "cell_type": "markdown",
      "source": [
        "10. Определите 3 матрицы  A∈R210×216 ,  B∈R216×25  and  C∈R25×216. Вычисление A @ B сравнить A @ C.T\n"
      ],
      "metadata": {
        "id": "OhQCYcE8rCBu"
      }
    },
    {
      "cell_type": "code",
      "source": [
        "A = np.random.randn(210, 216)\n",
        "B = np.random.randn(216, 25)\n",
        "C = np.random.randn(25, 216)\n",
        "\n",
        "AB = A @ B\n",
        "AC_T = A @ C.T\n",
        "print(\"Форма AB:\", AB.shape)  # (210, 25)\n",
        "print(\"Форма AC_T:\", AC_T.shape)  # (210, 25)"
      ],
      "metadata": {
        "colab": {
          "base_uri": "https://localhost:8080/"
        },
        "id": "7Ab7hXhArJr3",
        "outputId": "41c8d10f-d528-4f0a-e723-65f09f3917a1"
      },
      "execution_count": 9,
      "outputs": [
        {
          "output_type": "stream",
          "name": "stdout",
          "text": [
            "Форма AB: (210, 25)\n",
            "Форма AC_T: (210, 25)\n"
          ]
        }
      ]
    },
    {
      "cell_type": "markdown",
      "source": [
        "11. Определите 3 матрицы  A,B,C∈R100×200 . Сформируйте тензор с 3-мя осями путем объединения матриц  [A,B,C] ."
      ],
      "metadata": {
        "id": "bhbZJ-l2rFpM"
      }
    },
    {
      "cell_type": "code",
      "source": [
        "A = np.random.rand(100, 200)\n",
        "B = np.random.rand(100, 200)\n",
        "C = np.random.rand(100, 200)\n",
        "\n",
        "tensor = np.stack([A, B, C])  # Форма (3, 100, 200)\n",
        "print(\"Форма тензора:\", tensor.shape)"
      ],
      "metadata": {
        "colab": {
          "base_uri": "https://localhost:8080/"
        },
        "id": "7j4gf8RNrKFi",
        "outputId": "462b13a0-e84e-40d6-a72e-b5388625022b"
      },
      "execution_count": 10,
      "outputs": [
        {
          "output_type": "stream",
          "name": "stdout",
          "text": [
            "Форма тензора: (3, 100, 200)\n"
          ]
        }
      ]
    }
  ]
}